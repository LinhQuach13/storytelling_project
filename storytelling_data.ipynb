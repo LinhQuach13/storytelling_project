{
 "cells": [
  {
   "cell_type": "code",
   "execution_count": 1,
   "metadata": {},
   "outputs": [],
   "source": [
    "import pandas as pd\n",
    "import numpy as np\n",
    "import matplotlib.pyplot as plt\n",
    "\n",
    "import seaborn as sns"
   ]
  },
  {
   "cell_type": "code",
   "execution_count": 2,
   "metadata": {},
   "outputs": [],
   "source": [
    "#Loading .csv file using pandas\n",
    "telco= pd.read_csv('telco_1.csv')\n"
   ]
  },
  {
   "cell_type": "code",
   "execution_count": 3,
   "metadata": {},
   "outputs": [
    {
     "data": {
      "text/html": [
       "<div>\n",
       "<style scoped>\n",
       "    .dataframe tbody tr th:only-of-type {\n",
       "        vertical-align: middle;\n",
       "    }\n",
       "\n",
       "    .dataframe tbody tr th {\n",
       "        vertical-align: top;\n",
       "    }\n",
       "\n",
       "    .dataframe thead th {\n",
       "        text-align: right;\n",
       "    }\n",
       "</style>\n",
       "<table border=\"1\" class=\"dataframe\">\n",
       "  <thead>\n",
       "    <tr style=\"text-align: right;\">\n",
       "      <th></th>\n",
       "      <th>customer_id</th>\n",
       "      <th>gender</th>\n",
       "      <th>is_senior_citizen</th>\n",
       "      <th>partner</th>\n",
       "      <th>dependents</th>\n",
       "      <th>phone_service</th>\n",
       "      <th>internet_service</th>\n",
       "      <th>contract_type</th>\n",
       "      <th>payment_type</th>\n",
       "      <th>monthly_charges</th>\n",
       "      <th>total_charges</th>\n",
       "      <th>churn</th>\n",
       "    </tr>\n",
       "  </thead>\n",
       "  <tbody>\n",
       "    <tr>\n",
       "      <th>1</th>\n",
       "      <td>0003-MKNFE</td>\n",
       "      <td>Male</td>\n",
       "      <td>0</td>\n",
       "      <td>No</td>\n",
       "      <td>No</td>\n",
       "      <td>2</td>\n",
       "      <td>1</td>\n",
       "      <td>0</td>\n",
       "      <td>Mailed check</td>\n",
       "      <td>59.90</td>\n",
       "      <td>542.40</td>\n",
       "      <td>No</td>\n",
       "    </tr>\n",
       "    <tr>\n",
       "      <th>2</th>\n",
       "      <td>0004-TLHLJ</td>\n",
       "      <td>Male</td>\n",
       "      <td>0</td>\n",
       "      <td>No</td>\n",
       "      <td>No</td>\n",
       "      <td>1</td>\n",
       "      <td>2</td>\n",
       "      <td>0</td>\n",
       "      <td>Electronic check</td>\n",
       "      <td>73.90</td>\n",
       "      <td>280.85</td>\n",
       "      <td>Yes</td>\n",
       "    </tr>\n",
       "    <tr>\n",
       "      <th>3</th>\n",
       "      <td>0011-IGKFF</td>\n",
       "      <td>Male</td>\n",
       "      <td>1</td>\n",
       "      <td>Yes</td>\n",
       "      <td>No</td>\n",
       "      <td>1</td>\n",
       "      <td>2</td>\n",
       "      <td>0</td>\n",
       "      <td>Electronic check</td>\n",
       "      <td>98.00</td>\n",
       "      <td>1237.85</td>\n",
       "      <td>Yes</td>\n",
       "    </tr>\n",
       "    <tr>\n",
       "      <th>4</th>\n",
       "      <td>0013-EXCHZ</td>\n",
       "      <td>Female</td>\n",
       "      <td>1</td>\n",
       "      <td>Yes</td>\n",
       "      <td>No</td>\n",
       "      <td>1</td>\n",
       "      <td>2</td>\n",
       "      <td>0</td>\n",
       "      <td>Mailed check</td>\n",
       "      <td>83.90</td>\n",
       "      <td>267.40</td>\n",
       "      <td>Yes</td>\n",
       "    </tr>\n",
       "    <tr>\n",
       "      <th>5</th>\n",
       "      <td>0013-MHZWF</td>\n",
       "      <td>Female</td>\n",
       "      <td>0</td>\n",
       "      <td>No</td>\n",
       "      <td>Yes</td>\n",
       "      <td>1</td>\n",
       "      <td>1</td>\n",
       "      <td>0</td>\n",
       "      <td>Credit card (automatic)</td>\n",
       "      <td>69.40</td>\n",
       "      <td>571.45</td>\n",
       "      <td>No</td>\n",
       "    </tr>\n",
       "    <tr>\n",
       "      <th>...</th>\n",
       "      <td>...</td>\n",
       "      <td>...</td>\n",
       "      <td>...</td>\n",
       "      <td>...</td>\n",
       "      <td>...</td>\n",
       "      <td>...</td>\n",
       "      <td>...</td>\n",
       "      <td>...</td>\n",
       "      <td>...</td>\n",
       "      <td>...</td>\n",
       "      <td>...</td>\n",
       "      <td>...</td>\n",
       "    </tr>\n",
       "    <tr>\n",
       "      <th>7039</th>\n",
       "      <td>9992-RRAMN</td>\n",
       "      <td>Male</td>\n",
       "      <td>0</td>\n",
       "      <td>No</td>\n",
       "      <td>No</td>\n",
       "      <td>1</td>\n",
       "      <td>0</td>\n",
       "      <td>0</td>\n",
       "      <td>Mailed check</td>\n",
       "      <td>18.90</td>\n",
       "      <td>18.90</td>\n",
       "      <td>No</td>\n",
       "    </tr>\n",
       "    <tr>\n",
       "      <th>7042</th>\n",
       "      <td>9995-HOTOH</td>\n",
       "      <td>Female</td>\n",
       "      <td>0</td>\n",
       "      <td>No</td>\n",
       "      <td>No</td>\n",
       "      <td>1</td>\n",
       "      <td>2</td>\n",
       "      <td>0</td>\n",
       "      <td>Mailed check</td>\n",
       "      <td>70.15</td>\n",
       "      <td>70.15</td>\n",
       "      <td>Yes</td>\n",
       "    </tr>\n",
       "    <tr>\n",
       "      <th>7043</th>\n",
       "      <td>NaN</td>\n",
       "      <td>Female</td>\n",
       "      <td>0</td>\n",
       "      <td>No</td>\n",
       "      <td>No</td>\n",
       "      <td>1</td>\n",
       "      <td>0</td>\n",
       "      <td>0</td>\n",
       "      <td>Bank transfer (automatic)</td>\n",
       "      <td>20.95</td>\n",
       "      <td>85.50</td>\n",
       "      <td>Yes</td>\n",
       "    </tr>\n",
       "    <tr>\n",
       "      <th>7045</th>\n",
       "      <td>NaN</td>\n",
       "      <td>Male</td>\n",
       "      <td>0</td>\n",
       "      <td>Yes</td>\n",
       "      <td>No</td>\n",
       "      <td>2</td>\n",
       "      <td>2</td>\n",
       "      <td>0</td>\n",
       "      <td>Electronic check</td>\n",
       "      <td>85.10</td>\n",
       "      <td>1873.70</td>\n",
       "      <td>Yes</td>\n",
       "    </tr>\n",
       "    <tr>\n",
       "      <th>7046</th>\n",
       "      <td>NaN</td>\n",
       "      <td>Male</td>\n",
       "      <td>0</td>\n",
       "      <td>No</td>\n",
       "      <td>No</td>\n",
       "      <td>1</td>\n",
       "      <td>1</td>\n",
       "      <td>0</td>\n",
       "      <td>Mailed check</td>\n",
       "      <td>50.30</td>\n",
       "      <td>92.75</td>\n",
       "      <td>No</td>\n",
       "    </tr>\n",
       "  </tbody>\n",
       "</table>\n",
       "<p>3876 rows × 12 columns</p>\n",
       "</div>"
      ],
      "text/plain": [
       "     customer_id  gender  is_senior_citizen partner dependents  phone_service  \\\n",
       "1     0003-MKNFE    Male                  0      No         No              2   \n",
       "2     0004-TLHLJ    Male                  0      No         No              1   \n",
       "3     0011-IGKFF    Male                  1     Yes         No              1   \n",
       "4     0013-EXCHZ  Female                  1     Yes         No              1   \n",
       "5     0013-MHZWF  Female                  0      No        Yes              1   \n",
       "...          ...     ...                ...     ...        ...            ...   \n",
       "7039  9992-RRAMN    Male                  0      No         No              1   \n",
       "7042  9995-HOTOH  Female                  0      No         No              1   \n",
       "7043         NaN  Female                  0      No         No              1   \n",
       "7045         NaN    Male                  0     Yes         No              2   \n",
       "7046         NaN    Male                  0      No         No              1   \n",
       "\n",
       "      internet_service  contract_type               payment_type  \\\n",
       "1                    1              0               Mailed check   \n",
       "2                    2              0           Electronic check   \n",
       "3                    2              0           Electronic check   \n",
       "4                    2              0               Mailed check   \n",
       "5                    1              0    Credit card (automatic)   \n",
       "...                ...            ...                        ...   \n",
       "7039                 0              0               Mailed check   \n",
       "7042                 2              0               Mailed check   \n",
       "7043                 0              0  Bank transfer (automatic)   \n",
       "7045                 2              0           Electronic check   \n",
       "7046                 1              0               Mailed check   \n",
       "\n",
       "      monthly_charges  total_charges churn  \n",
       "1               59.90         542.40    No  \n",
       "2               73.90         280.85   Yes  \n",
       "3               98.00        1237.85   Yes  \n",
       "4               83.90         267.40   Yes  \n",
       "5               69.40         571.45    No  \n",
       "...               ...            ...   ...  \n",
       "7039            18.90          18.90    No  \n",
       "7042            70.15          70.15   Yes  \n",
       "7043            20.95          85.50   Yes  \n",
       "7045            85.10        1873.70   Yes  \n",
       "7046            50.30          92.75    No  \n",
       "\n",
       "[3876 rows x 12 columns]"
      ]
     },
     "execution_count": 3,
     "metadata": {},
     "output_type": "execute_result"
    }
   ],
   "source": [
    "#new dataframe copy with only month to month customers\n",
    "telco_dfM= telco[(telco['contract_type'] == 0)]\n",
    "\n",
    "telco_dfM"
   ]
  },
  {
   "cell_type": "code",
   "execution_count": 4,
   "metadata": {},
   "outputs": [
    {
     "data": {
      "text/html": [
       "<div>\n",
       "<style scoped>\n",
       "    .dataframe tbody tr th:only-of-type {\n",
       "        vertical-align: middle;\n",
       "    }\n",
       "\n",
       "    .dataframe tbody tr th {\n",
       "        vertical-align: top;\n",
       "    }\n",
       "\n",
       "    .dataframe thead th {\n",
       "        text-align: right;\n",
       "    }\n",
       "</style>\n",
       "<table border=\"1\" class=\"dataframe\">\n",
       "  <thead>\n",
       "    <tr style=\"text-align: right;\">\n",
       "      <th></th>\n",
       "      <th>customer_id</th>\n",
       "      <th>gender</th>\n",
       "      <th>is_senior_citizen</th>\n",
       "      <th>partner</th>\n",
       "      <th>dependents</th>\n",
       "      <th>phone_service</th>\n",
       "      <th>internet_service</th>\n",
       "      <th>contract_type</th>\n",
       "      <th>payment_type</th>\n",
       "      <th>monthly_charges</th>\n",
       "      <th>total_charges</th>\n",
       "      <th>churn</th>\n",
       "    </tr>\n",
       "  </thead>\n",
       "  <tbody>\n",
       "    <tr>\n",
       "      <th>1</th>\n",
       "      <td>0003-MKNFE</td>\n",
       "      <td>Male</td>\n",
       "      <td>0</td>\n",
       "      <td>No</td>\n",
       "      <td>No</td>\n",
       "      <td>2</td>\n",
       "      <td>1</td>\n",
       "      <td>0</td>\n",
       "      <td>Mailed check</td>\n",
       "      <td>59.90</td>\n",
       "      <td>542.40</td>\n",
       "      <td>No</td>\n",
       "    </tr>\n",
       "    <tr>\n",
       "      <th>2</th>\n",
       "      <td>0004-TLHLJ</td>\n",
       "      <td>Male</td>\n",
       "      <td>0</td>\n",
       "      <td>No</td>\n",
       "      <td>No</td>\n",
       "      <td>1</td>\n",
       "      <td>2</td>\n",
       "      <td>0</td>\n",
       "      <td>Electronic check</td>\n",
       "      <td>73.90</td>\n",
       "      <td>280.85</td>\n",
       "      <td>Yes</td>\n",
       "    </tr>\n",
       "    <tr>\n",
       "      <th>3</th>\n",
       "      <td>0011-IGKFF</td>\n",
       "      <td>Male</td>\n",
       "      <td>1</td>\n",
       "      <td>Yes</td>\n",
       "      <td>No</td>\n",
       "      <td>1</td>\n",
       "      <td>2</td>\n",
       "      <td>0</td>\n",
       "      <td>Electronic check</td>\n",
       "      <td>98.00</td>\n",
       "      <td>1237.85</td>\n",
       "      <td>Yes</td>\n",
       "    </tr>\n",
       "    <tr>\n",
       "      <th>4</th>\n",
       "      <td>0013-EXCHZ</td>\n",
       "      <td>Female</td>\n",
       "      <td>1</td>\n",
       "      <td>Yes</td>\n",
       "      <td>No</td>\n",
       "      <td>1</td>\n",
       "      <td>2</td>\n",
       "      <td>0</td>\n",
       "      <td>Mailed check</td>\n",
       "      <td>83.90</td>\n",
       "      <td>267.40</td>\n",
       "      <td>Yes</td>\n",
       "    </tr>\n",
       "    <tr>\n",
       "      <th>5</th>\n",
       "      <td>0013-MHZWF</td>\n",
       "      <td>Female</td>\n",
       "      <td>0</td>\n",
       "      <td>No</td>\n",
       "      <td>Yes</td>\n",
       "      <td>1</td>\n",
       "      <td>1</td>\n",
       "      <td>0</td>\n",
       "      <td>Credit card (automatic)</td>\n",
       "      <td>69.40</td>\n",
       "      <td>571.45</td>\n",
       "      <td>No</td>\n",
       "    </tr>\n",
       "    <tr>\n",
       "      <th>...</th>\n",
       "      <td>...</td>\n",
       "      <td>...</td>\n",
       "      <td>...</td>\n",
       "      <td>...</td>\n",
       "      <td>...</td>\n",
       "      <td>...</td>\n",
       "      <td>...</td>\n",
       "      <td>...</td>\n",
       "      <td>...</td>\n",
       "      <td>...</td>\n",
       "      <td>...</td>\n",
       "      <td>...</td>\n",
       "    </tr>\n",
       "    <tr>\n",
       "      <th>7039</th>\n",
       "      <td>9992-RRAMN</td>\n",
       "      <td>Male</td>\n",
       "      <td>0</td>\n",
       "      <td>No</td>\n",
       "      <td>No</td>\n",
       "      <td>1</td>\n",
       "      <td>0</td>\n",
       "      <td>0</td>\n",
       "      <td>Mailed check</td>\n",
       "      <td>18.90</td>\n",
       "      <td>18.90</td>\n",
       "      <td>No</td>\n",
       "    </tr>\n",
       "    <tr>\n",
       "      <th>7042</th>\n",
       "      <td>9995-HOTOH</td>\n",
       "      <td>Female</td>\n",
       "      <td>0</td>\n",
       "      <td>No</td>\n",
       "      <td>No</td>\n",
       "      <td>1</td>\n",
       "      <td>2</td>\n",
       "      <td>0</td>\n",
       "      <td>Mailed check</td>\n",
       "      <td>70.15</td>\n",
       "      <td>70.15</td>\n",
       "      <td>Yes</td>\n",
       "    </tr>\n",
       "    <tr>\n",
       "      <th>7043</th>\n",
       "      <td>NaN</td>\n",
       "      <td>Female</td>\n",
       "      <td>0</td>\n",
       "      <td>No</td>\n",
       "      <td>No</td>\n",
       "      <td>1</td>\n",
       "      <td>0</td>\n",
       "      <td>0</td>\n",
       "      <td>Bank transfer (automatic)</td>\n",
       "      <td>20.95</td>\n",
       "      <td>85.50</td>\n",
       "      <td>Yes</td>\n",
       "    </tr>\n",
       "    <tr>\n",
       "      <th>7045</th>\n",
       "      <td>NaN</td>\n",
       "      <td>Male</td>\n",
       "      <td>0</td>\n",
       "      <td>Yes</td>\n",
       "      <td>No</td>\n",
       "      <td>2</td>\n",
       "      <td>2</td>\n",
       "      <td>0</td>\n",
       "      <td>Electronic check</td>\n",
       "      <td>85.10</td>\n",
       "      <td>1873.70</td>\n",
       "      <td>Yes</td>\n",
       "    </tr>\n",
       "    <tr>\n",
       "      <th>7046</th>\n",
       "      <td>NaN</td>\n",
       "      <td>Male</td>\n",
       "      <td>0</td>\n",
       "      <td>No</td>\n",
       "      <td>No</td>\n",
       "      <td>1</td>\n",
       "      <td>1</td>\n",
       "      <td>0</td>\n",
       "      <td>Mailed check</td>\n",
       "      <td>50.30</td>\n",
       "      <td>92.75</td>\n",
       "      <td>No</td>\n",
       "    </tr>\n",
       "  </tbody>\n",
       "</table>\n",
       "<p>3876 rows × 12 columns</p>\n",
       "</div>"
      ],
      "text/plain": [
       "     customer_id  gender  is_senior_citizen partner dependents  phone_service  \\\n",
       "1     0003-MKNFE    Male                  0      No         No              2   \n",
       "2     0004-TLHLJ    Male                  0      No         No              1   \n",
       "3     0011-IGKFF    Male                  1     Yes         No              1   \n",
       "4     0013-EXCHZ  Female                  1     Yes         No              1   \n",
       "5     0013-MHZWF  Female                  0      No        Yes              1   \n",
       "...          ...     ...                ...     ...        ...            ...   \n",
       "7039  9992-RRAMN    Male                  0      No         No              1   \n",
       "7042  9995-HOTOH  Female                  0      No         No              1   \n",
       "7043         NaN  Female                  0      No         No              1   \n",
       "7045         NaN    Male                  0     Yes         No              2   \n",
       "7046         NaN    Male                  0      No         No              1   \n",
       "\n",
       "      internet_service  contract_type               payment_type  \\\n",
       "1                    1              0               Mailed check   \n",
       "2                    2              0           Electronic check   \n",
       "3                    2              0           Electronic check   \n",
       "4                    2              0               Mailed check   \n",
       "5                    1              0    Credit card (automatic)   \n",
       "...                ...            ...                        ...   \n",
       "7039                 0              0               Mailed check   \n",
       "7042                 2              0               Mailed check   \n",
       "7043                 0              0  Bank transfer (automatic)   \n",
       "7045                 2              0           Electronic check   \n",
       "7046                 1              0               Mailed check   \n",
       "\n",
       "      monthly_charges  total_charges churn  \n",
       "1               59.90         542.40    No  \n",
       "2               73.90         280.85   Yes  \n",
       "3               98.00        1237.85   Yes  \n",
       "4               83.90         267.40   Yes  \n",
       "5               69.40         571.45    No  \n",
       "...               ...            ...   ...  \n",
       "7039            18.90          18.90    No  \n",
       "7042            70.15          70.15   Yes  \n",
       "7043            20.95          85.50   Yes  \n",
       "7045            85.10        1873.70   Yes  \n",
       "7046            50.30          92.75    No  \n",
       "\n",
       "[3876 rows x 12 columns]"
      ]
     },
     "execution_count": 4,
     "metadata": {},
     "output_type": "execute_result"
    }
   ],
   "source": [
    "#number of rows and columns\n",
    "telco_dfM"
   ]
  },
  {
   "cell_type": "code",
   "execution_count": 5,
   "metadata": {},
   "outputs": [
    {
     "data": {
      "text/plain": [
       "pandas.core.frame.DataFrame"
      ]
     },
     "execution_count": 5,
     "metadata": {},
     "output_type": "execute_result"
    }
   ],
   "source": [
    "#Looking at what datatype telco_copy is\n",
    "type(telco_dfM)"
   ]
  },
  {
   "cell_type": "markdown",
   "metadata": {},
   "source": [
    "# Looking at dependents as an option for driver of churn for month to month plan customers"
   ]
  },
  {
   "cell_type": "code",
   "execution_count": 6,
   "metadata": {},
   "outputs": [
    {
     "data": {
      "text/plain": [
       "pandas.core.series.Series"
      ]
     },
     "execution_count": 6,
     "metadata": {},
     "output_type": "execute_result"
    }
   ],
   "source": [
    "#Once I filter by dependents, datatype is a series\n",
    "type(telco_dfM['dependents'])"
   ]
  },
  {
   "cell_type": "code",
   "execution_count": 7,
   "metadata": {},
   "outputs": [
    {
     "data": {
      "text/plain": [
       "1        No\n",
       "2        No\n",
       "3        No\n",
       "4        No\n",
       "5       Yes\n",
       "       ... \n",
       "7039     No\n",
       "7042     No\n",
       "7043     No\n",
       "7045     No\n",
       "7046     No\n",
       "Name: dependents, Length: 3876, dtype: object"
      ]
     },
     "execution_count": 7,
     "metadata": {},
     "output_type": "execute_result"
    }
   ],
   "source": [
    "#make a variable for dependents, didn't use went a different route\n",
    "dependents= telco_dfM['dependents']\n",
    "\n",
    "dependents"
   ]
  },
  {
   "cell_type": "code",
   "execution_count": 8,
   "metadata": {},
   "outputs": [
    {
     "data": {
      "text/plain": [
       "3876"
      ]
     },
     "execution_count": 8,
     "metadata": {},
     "output_type": "execute_result"
    }
   ],
   "source": [
    "#count all in dependents, didn't use went a different route\n",
    "dependents.count()"
   ]
  },
  {
   "cell_type": "code",
   "execution_count": 9,
   "metadata": {},
   "outputs": [
    {
     "data": {
      "text/plain": [
       "customer_id          790\n",
       "gender               790\n",
       "is_senior_citizen    790\n",
       "partner              790\n",
       "dependents           790\n",
       "phone_service        790\n",
       "internet_service     790\n",
       "contract_type        790\n",
       "payment_type         790\n",
       "monthly_charges      790\n",
       "total_charges        790\n",
       "churn                790\n",
       "dtype: int64"
      ]
     },
     "execution_count": 9,
     "metadata": {},
     "output_type": "execute_result"
    }
   ],
   "source": [
    "#count number of customers with dependents who are on month to month plans\n",
    "dependents_and_month_to_month = telco_dfM[(telco_dfM[\"dependents\"]==\"Yes\")]\n",
    "\n",
    "\n",
    "dependents_and_month_to_month.count()"
   ]
  },
  {
   "cell_type": "code",
   "execution_count": 10,
   "metadata": {},
   "outputs": [
    {
     "data": {
      "text/plain": [
       "customer_id          3083\n",
       "gender               3086\n",
       "is_senior_citizen    3086\n",
       "partner              3086\n",
       "dependents           3086\n",
       "phone_service        3086\n",
       "internet_service     3086\n",
       "contract_type        3086\n",
       "payment_type         3086\n",
       "monthly_charges      3086\n",
       "total_charges        3086\n",
       "churn                3086\n",
       "dtype: int64"
      ]
     },
     "execution_count": 10,
     "metadata": {},
     "output_type": "execute_result"
    }
   ],
   "source": [
    "#count number of customers without dependents who are on month to month plans\n",
    "no_dependents_and_month_to_month = telco_dfM[(telco_dfM[\"dependents\"]==\"No\")]\n",
    "\n",
    "no_dependents_and_month_to_month.count()"
   ]
  },
  {
   "cell_type": "code",
   "execution_count": 11,
   "metadata": {},
   "outputs": [
    {
     "data": {
      "text/plain": [
       "customer_id          3873\n",
       "gender               3876\n",
       "is_senior_citizen    3876\n",
       "partner              3876\n",
       "dependents           3876\n",
       "phone_service        3876\n",
       "internet_service     3876\n",
       "contract_type        3876\n",
       "payment_type         3876\n",
       "monthly_charges      3876\n",
       "total_charges        3876\n",
       "churn                3876\n",
       "dtype: int64"
      ]
     },
     "execution_count": 11,
     "metadata": {},
     "output_type": "execute_result"
    }
   ],
   "source": [
    "# Total count number of customers with and wthout dependents who are on month to month plans\n",
    "total_dependents_and_month_to_month = dependents_and_month_to_month.count() + no_dependents_and_month_to_month.count()\n",
    "\n",
    "total_dependents_and_month_to_month"
   ]
  },
  {
   "cell_type": "code",
   "execution_count": 12,
   "metadata": {},
   "outputs": [
    {
     "data": {
      "text/plain": [
       "customer_id          260\n",
       "gender               260\n",
       "is_senior_citizen    260\n",
       "partner              260\n",
       "dependents           260\n",
       "phone_service        260\n",
       "internet_service     260\n",
       "contract_type        260\n",
       "payment_type         260\n",
       "monthly_charges      260\n",
       "total_charges        260\n",
       "churn                260\n",
       "dtype: int64"
      ]
     },
     "execution_count": 12,
     "metadata": {},
     "output_type": "execute_result"
    }
   ],
   "source": [
    "#count number of customers with dependents who are on month to month plans who have churned\n",
    "churned_dependents_and_month_to_month = telco_dfM[(telco_dfM[\"dependents\"]==\"Yes\") & (telco_dfM['churn']== \"Yes\")]\n",
    "\n",
    "churned_dependents_and_month_to_month.count()"
   ]
  },
  {
   "cell_type": "code",
   "execution_count": 13,
   "metadata": {},
   "outputs": [
    {
     "data": {
      "text/plain": [
       "customer_id          1394\n",
       "gender               1396\n",
       "is_senior_citizen    1396\n",
       "partner              1396\n",
       "dependents           1396\n",
       "phone_service        1396\n",
       "internet_service     1396\n",
       "contract_type        1396\n",
       "payment_type         1396\n",
       "monthly_charges      1396\n",
       "total_charges        1396\n",
       "churn                1396\n",
       "dtype: int64"
      ]
     },
     "execution_count": 13,
     "metadata": {},
     "output_type": "execute_result"
    }
   ],
   "source": [
    "#count number of customers with dependents who are on month to month plans who have churned\n",
    "\n",
    "churned_no_dependents_and_month_to_month = telco_dfM[(telco_dfM[\"dependents\"]==\"No\") & (telco_dfM['churn']== \"Yes\")]\n",
    "\n",
    "churned_no_dependents_and_month_to_month.count()"
   ]
  },
  {
   "cell_type": "code",
   "execution_count": 14,
   "metadata": {},
   "outputs": [
    {
     "data": {
      "text/plain": [
       "customer_id          6.713142\n",
       "gender               6.707946\n",
       "is_senior_citizen    6.707946\n",
       "partner              6.707946\n",
       "dependents           6.707946\n",
       "phone_service        6.707946\n",
       "internet_service     6.707946\n",
       "contract_type        6.707946\n",
       "payment_type         6.707946\n",
       "monthly_charges      6.707946\n",
       "total_charges        6.707946\n",
       "churn                6.707946\n",
       "dtype: float64"
      ]
     },
     "execution_count": 14,
     "metadata": {},
     "output_type": "execute_result"
    }
   ],
   "source": [
    "# % of people who have churned that have dependents\n",
    "percent_churn_dependents= (churned_dependents_and_month_to_month.count()/total_dependents_and_month_to_month) * 100\n",
    "\n",
    "percent_churn_dependents"
   ]
  },
  {
   "cell_type": "code",
   "execution_count": 15,
   "metadata": {},
   "outputs": [
    {
     "data": {
      "text/plain": [
       "customer_id          35.992770\n",
       "gender               36.016512\n",
       "is_senior_citizen    36.016512\n",
       "partner              36.016512\n",
       "dependents           36.016512\n",
       "phone_service        36.016512\n",
       "internet_service     36.016512\n",
       "contract_type        36.016512\n",
       "payment_type         36.016512\n",
       "monthly_charges      36.016512\n",
       "total_charges        36.016512\n",
       "churn                36.016512\n",
       "dtype: float64"
      ]
     },
     "execution_count": 15,
     "metadata": {},
     "output_type": "execute_result"
    }
   ],
   "source": [
    "# % of people who have churned that do not have dependents\n",
    "percent_churn_no_dependents= (churned_no_dependents_and_month_to_month.count()/total_dependents_and_month_to_month) *100\n",
    "\n",
    "\n",
    "percent_churn_no_dependents"
   ]
  },
  {
   "cell_type": "markdown",
   "metadata": {},
   "source": [
    "# Looking at senior citizens as an option for driver of churn for month to month plan customers"
   ]
  },
  {
   "cell_type": "code",
   "execution_count": 23,
   "metadata": {},
   "outputs": [
    {
     "data": {
      "text/plain": [
       "customer_id          807\n",
       "gender               807\n",
       "is_senior_citizen    807\n",
       "partner              807\n",
       "dependents           807\n",
       "phone_service        807\n",
       "internet_service     807\n",
       "contract_type        807\n",
       "payment_type         807\n",
       "monthly_charges      807\n",
       "total_charges        807\n",
       "churn                807\n",
       "dtype: int64"
      ]
     },
     "execution_count": 23,
     "metadata": {},
     "output_type": "execute_result"
    }
   ],
   "source": [
    "#count number of customers who are senior_citizens who are on month to month plans\n",
    "senior_and_month_to_month = telco_dfM[(telco_dfM[\"is_senior_citizen\"]== 1)]\n",
    "\n",
    "senior_and_month_to_month.count()"
   ]
  },
  {
   "cell_type": "code",
   "execution_count": 24,
   "metadata": {},
   "outputs": [
    {
     "data": {
      "text/plain": [
       "customer_id          3066\n",
       "gender               3069\n",
       "is_senior_citizen    3069\n",
       "partner              3069\n",
       "dependents           3069\n",
       "phone_service        3069\n",
       "internet_service     3069\n",
       "contract_type        3069\n",
       "payment_type         3069\n",
       "monthly_charges      3069\n",
       "total_charges        3069\n",
       "churn                3069\n",
       "dtype: int64"
      ]
     },
     "execution_count": 24,
     "metadata": {},
     "output_type": "execute_result"
    }
   ],
   "source": [
    "#count number of customers who are not senior_citizens who are on month to month plans\n",
    "no_senior_and_month_to_month = telco_dfM[(telco_dfM[\"is_senior_citizen\"]== 0)]\n",
    "\n",
    "no_senior_and_month_to_month.count()"
   ]
  },
  {
   "cell_type": "code",
   "execution_count": 25,
   "metadata": {},
   "outputs": [
    {
     "data": {
      "text/plain": [
       "customer_id          3873\n",
       "gender               3876\n",
       "is_senior_citizen    3876\n",
       "partner              3876\n",
       "dependents           3876\n",
       "phone_service        3876\n",
       "internet_service     3876\n",
       "contract_type        3876\n",
       "payment_type         3876\n",
       "monthly_charges      3876\n",
       "total_charges        3876\n",
       "churn                3876\n",
       "dtype: int64"
      ]
     },
     "execution_count": 25,
     "metadata": {},
     "output_type": "execute_result"
    }
   ],
   "source": [
    "# total of all customers that are month to month\n",
    "total_month_to_month= senior_and_month_to_month.count() + no_senior_and_month_to_month.count()\n",
    "\n",
    "total_month_to_month"
   ]
  },
  {
   "cell_type": "code",
   "execution_count": 26,
   "metadata": {},
   "outputs": [
    {
     "data": {
      "text/plain": [
       "customer_id          20.836561\n",
       "gender               20.820433\n",
       "is_senior_citizen    20.820433\n",
       "partner              20.820433\n",
       "dependents           20.820433\n",
       "phone_service        20.820433\n",
       "internet_service     20.820433\n",
       "contract_type        20.820433\n",
       "payment_type         20.820433\n",
       "monthly_charges      20.820433\n",
       "total_charges        20.820433\n",
       "churn                20.820433\n",
       "dtype: float64"
      ]
     },
     "execution_count": 26,
     "metadata": {},
     "output_type": "execute_result"
    }
   ],
   "source": [
    "#Percent of seniors who churn\n",
    "percent_senior_churn= (senior_and_month_to_month.count() / total_month_to_month) * 100\n",
    "\n",
    "percent_senior_churn"
   ]
  },
  {
   "cell_type": "code",
   "execution_count": 27,
   "metadata": {},
   "outputs": [
    {
     "data": {
      "text/plain": [
       "<AxesSubplot:xlabel='churn', ylabel='Count'>"
      ]
     },
     "execution_count": 27,
     "metadata": {},
     "output_type": "execute_result"
    },
    {
     "data": {
      "image/png": "[encoded data removed]",
      "text/plain": [
       "<Figure size 432x288 with 1 Axes>"
      ]
     },
     "metadata": {
      "needs_background": "light"
     },
     "output_type": "display_data"
    }
   ],
   "source": [
    "#chart for senior citizens who have churn \n",
    "sns.histplot(data= telco_dfM, x= 'churn', hue= 'is_senior_citizen', palette='pastel')"
   ]
  },
  {
   "cell_type": "code",
   "execution_count": 28,
   "metadata": {},
   "outputs": [
    {
     "data": {
      "text/plain": [
       "0    3069\n",
       "1     807\n",
       "Name: is_senior_citizen, dtype: int64"
      ]
     },
     "execution_count": 28,
     "metadata": {},
     "output_type": "execute_result"
    }
   ],
   "source": [
    "#see count is_senior_citizens\n",
    "telco_dfM.is_senior_citizen.value_counts()"
   ]
  },
  {
   "cell_type": "code",
   "execution_count": 29,
   "metadata": {},
   "outputs": [
    {
     "data": {
      "text/plain": [
       "<seaborn.axisgrid.PairGrid at 0x7fcb3c5c00a0>"
      ]
     },
     "execution_count": 29,
     "metadata": {},
     "output_type": "execute_result"
    },
    {
     "data": {
      "image/png": "[encoded data removed]",
      "text/plain": [
       "<Figure size 1080x1080 with 42 Axes>"
      ]
     },
     "metadata": {
      "needs_background": "light"
     },
     "output_type": "display_data"
    }
   ],
   "source": [
    "#To get a quick overview, does not include churn column\n",
    "sns.pairplot(telco_dfM)"
   ]
  },
  {
   "cell_type": "code",
   "execution_count": null,
   "metadata": {},
   "outputs": [],
   "source": []
  }
 ],
 "metadata": {
  "kernelspec": {
   "display_name": "Python 3",
   "language": "python",
   "name": "python3"
  },
  "language_info": {
   "codemirror_mode": {
    "name": "ipython",
    "version": 3
   },
   "file_extension": ".py",
   "mimetype": "text/x-python",
   "name": "python",
   "nbconvert_exporter": "python",
   "pygments_lexer": "ipython3",
   "version": "3.8.5"
  }
 },
 "nbformat": 4,
 "nbformat_minor": 4
}
